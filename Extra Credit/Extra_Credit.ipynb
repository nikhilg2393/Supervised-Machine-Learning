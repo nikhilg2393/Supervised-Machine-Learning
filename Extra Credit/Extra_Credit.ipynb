{
  "cells": [
    {
      "cell_type": "code",
      "execution_count": null,
      "id": "ba8d3585",
      "metadata": {
        "id": "ba8d3585"
      },
      "outputs": [],
      "source": [
        "import pandas as pd\n",
        "import numpy as np\n",
        "import math\n",
        "import matplotlib.pyplot as plt"
      ]
    },
    {
      "cell_type": "code",
      "execution_count": null,
      "id": "0ab9fbc4",
      "metadata": {
        "id": "0ab9fbc4"
      },
      "outputs": [],
      "source": [
        "trainX = np.array([18.1,8.0,16.8,2.8,3.9,12.7,11.5,9.5,8.0,13.2])\n",
        "trainY = np.array([83,42,79,16,24,73,60,44,47,67])"
      ]
    },
    {
      "cell_type": "code",
      "execution_count": null,
      "id": "e860052d",
      "metadata": {
        "id": "e860052d"
      },
      "outputs": [],
      "source": [
        "trainX = trainX[:,np.newaxis]\n",
        "trainY = trainY[:,np.newaxis]"
      ]
    },
    {
      "cell_type": "code",
      "execution_count": null,
      "id": "ba94ceec",
      "metadata": {
        "colab": {
          "base_uri": "https://localhost:8080/"
        },
        "id": "ba94ceec",
        "outputId": "eb6602cb-3fd3-4f9e-c4db-a635a94895fe"
      },
      "outputs": [
        {
          "output_type": "execute_result",
          "data": {
            "text/plain": [
              "array([[18.1],\n",
              "       [ 8. ],\n",
              "       [16.8],\n",
              "       [ 2.8],\n",
              "       [ 3.9],\n",
              "       [12.7],\n",
              "       [11.5],\n",
              "       [ 9.5],\n",
              "       [ 8. ],\n",
              "       [13.2]])"
            ]
          },
          "metadata": {},
          "execution_count": 6
        }
      ],
      "source": [
        "trainX"
      ]
    },
    {
      "cell_type": "code",
      "execution_count": null,
      "id": "23c04d43",
      "metadata": {
        "id": "23c04d43"
      },
      "outputs": [],
      "source": [
        "A = np.hstack((trainX, trainY))\n",
        "A = A[A[:, 1].argsort()]"
      ]
    },
    {
      "cell_type": "code",
      "execution_count": null,
      "id": "fc5cf632",
      "metadata": {
        "id": "fc5cf632"
      },
      "outputs": [],
      "source": [
        "trainX = np.hsplit(A,[1])[0]\n",
        "trainY = np.hsplit(A,[1])[1]"
      ]
    },
    {
      "cell_type": "code",
      "execution_count": null,
      "id": "29811cff",
      "metadata": {
        "id": "29811cff"
      },
      "outputs": [],
      "source": [
        "def calc_slope(X,Y):\n",
        "    product1 = np.dot(X.T, X)\n",
        "    product2 = np.dot(X.T, Y)\n",
        "    product1_inverse = np.linalg.pinv(product1)\n",
        "    return np.dot(product1_inverse, product2)"
      ]
    },
    {
      "cell_type": "code",
      "execution_count": null,
      "id": "e4861541",
      "metadata": {
        "colab": {
          "base_uri": "https://localhost:8080/"
        },
        "id": "e4861541",
        "outputId": "35321681-045b-4bab-d15a-b2ec65a423f2"
      },
      "outputs": [
        {
          "output_type": "stream",
          "name": "stdout",
          "text": [
            "[[5.0036014]]\n"
          ]
        }
      ],
      "source": [
        "slope = calc_slope(trainX, trainY)\n",
        "print(slope)"
      ]
    },
    {
      "cell_type": "code",
      "execution_count": null,
      "id": "fe4af097",
      "metadata": {
        "id": "fe4af097"
      },
      "outputs": [],
      "source": [
        "def predict(theta,X):\n",
        "    return np.dot(X, theta)\n",
        "    "
      ]
    },
    {
      "cell_type": "code",
      "execution_count": null,
      "id": "144b6aa3",
      "metadata": {
        "id": "144b6aa3"
      },
      "outputs": [],
      "source": [
        "Y_pred = predict(slope, trainX)"
      ]
    },
    {
      "cell_type": "code",
      "execution_count": null,
      "id": "f6dd807b",
      "metadata": {
        "colab": {
          "base_uri": "https://localhost:8080/",
          "height": 279
        },
        "id": "f6dd807b",
        "outputId": "b54b6ef7-cb01-459c-8fc6-1174615d2cc4"
      },
      "outputs": [
        {
          "output_type": "display_data",
          "data": {
            "text/plain": [
              "<Figure size 432x288 with 1 Axes>"
            ],
            "image/png": "[encoded data removed]"
          },
          "metadata": {
            "needs_background": "light"
          }
        }
      ],
      "source": [
        "plt.scatter(trainX, trainY)\n",
        "plt.plot(trainX,Y_pred)\n",
        "plt.xlabel('Trunk Circumference')\n",
        "plt.ylabel('Age in years')\n",
        "plt.show()"
      ]
    },
    {
      "cell_type": "code",
      "execution_count": null,
      "id": "951e5c8f",
      "metadata": {
        "id": "951e5c8f"
      },
      "outputs": [],
      "source": [
        "trainX1 = np.square(trainX)\n",
        "trainY1 = np.square(trainY)"
      ]
    },
    {
      "cell_type": "code",
      "execution_count": null,
      "id": "4449cb04",
      "metadata": {
        "id": "4449cb04"
      },
      "outputs": [],
      "source": [
        "X = np.hstack((trainX1, trainX, np.ones(trainX.shape)))"
      ]
    },
    {
      "cell_type": "code",
      "execution_count": null,
      "id": "ae8f6eeb",
      "metadata": {
        "colab": {
          "base_uri": "https://localhost:8080/"
        },
        "id": "ae8f6eeb",
        "outputId": "1d8f44c5-c632-4aff-d734-21bf772c4ae6"
      },
      "outputs": [
        {
          "output_type": "execute_result",
          "data": {
            "text/plain": [
              "array([[  7.84,   2.8 ,   1.  ],\n",
              "       [ 15.21,   3.9 ,   1.  ],\n",
              "       [ 64.  ,   8.  ,   1.  ],\n",
              "       [ 90.25,   9.5 ,   1.  ],\n",
              "       [ 64.  ,   8.  ,   1.  ],\n",
              "       [132.25,  11.5 ,   1.  ],\n",
              "       [174.24,  13.2 ,   1.  ],\n",
              "       [161.29,  12.7 ,   1.  ],\n",
              "       [282.24,  16.8 ,   1.  ],\n",
              "       [327.61,  18.1 ,   1.  ]])"
            ]
          },
          "metadata": {},
          "execution_count": 17
        }
      ],
      "source": [
        "X"
      ]
    },
    {
      "cell_type": "code",
      "execution_count": null,
      "id": "5eb0ca0c",
      "metadata": {
        "colab": {
          "base_uri": "https://localhost:8080/"
        },
        "id": "5eb0ca0c",
        "outputId": "b141f438-c74a-459c-8012-fbb017eb85b3"
      },
      "outputs": [
        {
          "output_type": "stream",
          "name": "stdout",
          "text": [
            "[[-0.09712011]\n",
            " [ 6.46569415]\n",
            " [-1.25704147]]\n"
          ]
        }
      ],
      "source": [
        "slope1=calc_slope(X, trainY)\n",
        "print(slope1)"
      ]
    },
    {
      "cell_type": "code",
      "execution_count": null,
      "id": "7110ffc2",
      "metadata": {
        "id": "7110ffc2"
      },
      "outputs": [],
      "source": [
        "Y1_pred = predict(slope1, X)"
      ]
    },
    {
      "cell_type": "code",
      "execution_count": null,
      "id": "e48bb7bd",
      "metadata": {
        "colab": {
          "base_uri": "https://localhost:8080/",
          "height": 621
        },
        "id": "e48bb7bd",
        "outputId": "ab466a37-657c-4804-aa70-57ba59b8a8a4"
      },
      "outputs": [
        {
          "output_type": "display_data",
          "data": {
            "text/plain": [
              "<Figure size 864x720 with 1 Axes>"
            ],
            "image/png": "[encoded data removed]"
          },
          "metadata": {
            "needs_background": "light"
          }
        }
      ],
      "source": [
        "fig = plt.figure(figsize=(12,10))\n",
        "plt.scatter(trainX, trainY)\n",
        "plt.plot(trainX,Y1_pred, label='quadratic relationship')\n",
        "plt.plot(trainX,Y_pred, label = 'linear relationship')\n",
        "plt.xlabel('Trunk Circumference')\n",
        "plt.ylabel('Age in years')\n",
        "plt.title('Age vs Trunk circumference')\n",
        "plt.legend()\n",
        "plt.show()"
      ]
    },
    {
      "cell_type": "code",
      "execution_count": null,
      "id": "7cdcba8f",
      "metadata": {
        "id": "7cdcba8f"
      },
      "outputs": [],
      "source": [
        "trainX = np.array([10,10,10,10,10,10,10,10,10,10])\n",
        "trainX = trainX[:,np.newaxis]"
      ]
    },
    {
      "cell_type": "code",
      "source": [
        "plt.vlines(x = 10, ymin = 0, ymax = max(trainY))"
      ],
      "metadata": {
        "colab": {
          "base_uri": "https://localhost:8080/",
          "height": 282
        },
        "id": "Gx3QDc_oTEi6",
        "outputId": "009f943e-d22c-48ac-bd83-2cd3202cb0fc"
      },
      "id": "Gx3QDc_oTEi6",
      "execution_count": null,
      "outputs": [
        {
          "output_type": "execute_result",
          "data": {
            "text/plain": [
              "<matplotlib.collections.LineCollection at 0x7efc51057410>"
            ]
          },
          "metadata": {},
          "execution_count": 24
        },
        {
          "output_type": "display_data",
          "data": {
            "text/plain": [
              "<Figure size 432x288 with 1 Axes>"
            ],
            "image/png": "[encoded data removed]"
          },
          "metadata": {
            "needs_background": "light"
          }
        }
      ]
    }
  ],
  "metadata": {
    "kernelspec": {
      "display_name": "Python 3",
      "language": "python",
      "name": "python3"
    },
    "language_info": {
      "codemirror_mode": {
        "name": "ipython",
        "version": 3
      },
      "file_extension": ".py",
      "mimetype": "text/x-python",
      "name": "python",
      "nbconvert_exporter": "python",
      "pygments_lexer": "ipython3",
      "version": "3.8.8"
    },
    "colab": {
      "name": "Extra-Credit.ipynb",
      "provenance": []
    }
  },
  "nbformat": 4,
  "nbformat_minor": 5
}