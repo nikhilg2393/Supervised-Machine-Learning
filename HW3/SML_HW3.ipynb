{
  "cells": [
    {
      "cell_type": "code",
      "execution_count": 30,
      "metadata": {
        "id": "qU2yJ9BRqcCJ"
      },
      "outputs": [],
      "source": [
        "#importing libraries\n",
        "import pandas as pd\n",
        "import numpy as np\n",
        "import math\n",
        "#importing data\n",
        "import scipy.io"
      ]
    },
    {
      "cell_type": "code",
      "execution_count": 31,
      "metadata": {
        "id": "xmVdaF_2qd9K"
      },
      "outputs": [],
      "source": [
        "mat = scipy.io.loadmat('data_2_2b.mat')\n",
        "train_x = pd.DataFrame(mat['X_trn'])\n",
        "train_y = pd.DataFrame(mat['Y_trn'])"
      ]
    },
    {
      "cell_type": "code",
      "execution_count": 32,
      "metadata": {
        "id": "Xw1XiRceqkHZ"
      },
      "outputs": [],
      "source": [
        "test_x = pd.DataFrame(mat['X_tst'])\n",
        "test_y = pd.DataFrame(mat['Y_tst'])"
      ]
    },
    {
      "cell_type": "code",
      "execution_count": 33,
      "metadata": {
        "id": "u5O_owKntp1Q"
      },
      "outputs": [],
      "source": [
        "#sorting data\n",
        "def sorting(train_x):\n",
        "  x_train = np.array(train_x.values.reshape(-1,1)) \n",
        "  train_1 = np.hstack((x_train,train_y)) \n",
        "  sorted_array = train_1[np.argsort(train_1[:, 0])] \n",
        "  return sorted_array"
      ]
    },
    {
      "cell_type": "code",
      "execution_count": 34,
      "metadata": {
        "id": "831Qb3AztxKx"
      },
      "outputs": [],
      "source": [
        "#Calculating Entropy\n",
        "def cal_entropy(y):\n",
        "  unique, count = np.unique(y,return_counts=True) \n",
        "  probabilties = []\n",
        "  for i in count:\n",
        "    prob = i / len(y)\n",
        "    probabilties.append(prob)\n",
        "    entropy = 0\n",
        "    for z in probabilties:\n",
        "      if prob > 0:\n",
        "        entropy = (entropy + (z * math.log(1/z)))\n",
        "  return entropy"
      ]
    },
    {
      "cell_type": "code",
      "execution_count": 35,
      "metadata": {
        "id": "RyShSl9Vt6Dx"
      },
      "outputs": [],
      "source": [
        "#Calculating Expected Entropy\n",
        "def expected_entropy(entropy_left,entropy_right,left_length,right_length ,length):\n",
        "  exp_entropy = entropy_left*(left_length/length) + entropy_right*(right_length/length)\n",
        "  return exp_entropy"
      ]
    },
    {
      "cell_type": "code",
      "execution_count": 36,
      "metadata": {
        "id": "7t1zH4Gzt-mF"
      },
      "outputs": [],
      "source": [
        "#Calculating Information Gain\n",
        "def info_gain(y_big,exp_entropy):\n",
        "  return(y_big - exp_entropy)"
      ]
    },
    {
      "cell_type": "code",
      "execution_count": 8,
      "metadata": {
        "id": "nM9eD_RLuB4i"
      },
      "outputs": [
        {
          "data": {
            "text/plain": [
              "0.6931471805599453"
            ]
          },
          "execution_count": 8,
          "metadata": {},
          "output_type": "execute_result"
        }
      ],
      "source": [
        "#Calculating Entropy of Y training dataset\n",
        "Y_train_entropy = cal_entropy(train_y)\n",
        "Y_train_entropy"
      ]
    },
    {
      "cell_type": "code",
      "execution_count": 38,
      "metadata": {
        "id": "mSqSkMYeuEkI"
      },
      "outputs": [
        {
          "name": "stdout",
          "output_type": "stream",
          "text": [
            "\n",
            "Feature : 0\n",
            "Information Gain =  0.037073868088559614 , at index =  7 with value  -1.5977501529761042\n",
            "Information Gain =  0.07727287915545089 , at index =  14 with value  -1.4170287584214163\n",
            "Information Gain =  0.12120796343181472 , at index =  21 with value  -1.2425481063746178\n",
            "Information Gain =  0.16970254517109962 , at index =  28 with value  -1.0395920060319543\n",
            "Information Gain =  0.22391263114378274 , at index =  35 with value  -0.9608463990919474\n",
            "Information Gain =  0.2855539776713675 , at index =  42 with value  -0.8617626079814722\n",
            "Information Gain =  0.35738878521574563 , at index =  49 with value  -0.7702183883365052\n",
            "Information Gain =  0.444494775968186 , at index =  56 with value  -0.6606212135534657\n",
            "Information Gain =  0.5591043446063659 , at index =  63 with value  -0.25732408623546743\n",
            "Information Gain =  0.6263688818072983 , at index =  70 with value  0.44979407473070565\n",
            "Information Gain =  0.48894517809867744 , at index =  77 with value  0.8848431892869623\n",
            "Information Gain =  0.392406977655338 , at index =  84 with value  1.051021883324406\n",
            "Information Gain =  0.3148727380990066 , at index =  91 with value  1.2834256235141153\n",
            "Information Gain =  0.24929153711967955 , at index =  98 with value  1.4908930218245053\n",
            "Information Gain =  0.19215195962811893 , at index =  105 with value  1.6381057627712532\n",
            "Information Gain =  0.14137507952559358 , at index =  112 with value  1.859039939500618\n",
            "Information Gain =  0.09560258894703266 , at index =  119 with value  2.0059608422249706\n",
            "Information Gain =  0.05388760914657287 , at index =  126 with value  2.1409989595953194\n",
            "Information Gain =  0.015538816160668878 , at index =  133 with value  2.453655245437507\n",
            "\n",
            "Feature : 1\n",
            "Information Gain =  0.037073868088559614 , at index =  7 with value  -0.6640144498288834\n",
            "Information Gain =  0.07727287915545089 , at index =  14 with value  -0.5330549969153344\n",
            "Information Gain =  0.12120796343181472 , at index =  21 with value  -0.34776223389740596\n",
            "Information Gain =  0.16970254517109962 , at index =  28 with value  -0.15408282616018082\n",
            "Information Gain =  0.22391263114378274 , at index =  35 with value  0.0038829280989659486\n",
            "Information Gain =  0.2855539776713675 , at index =  42 with value  0.11684594078329\n",
            "Information Gain =  0.35738878521574563 , at index =  49 with value  0.24664815543021018\n",
            "Information Gain =  0.444494775968186 , at index =  56 with value  0.3936205577228398\n",
            "Information Gain =  0.5591043446063659 , at index =  63 with value  0.7866573554989533\n",
            "Information Gain =  0.5639819966718296 , at index =  70 with value  1.0357949390991104\n",
            "Information Gain =  0.48894517809867744 , at index =  77 with value  1.3208584765846296\n",
            "Information Gain =  0.392406977655338 , at index =  84 with value  1.6455836269545054\n",
            "Information Gain =  0.3148727380990066 , at index =  91 with value  1.7738046697579697\n",
            "Information Gain =  0.24929153711967955 , at index =  98 with value  1.8650365208564768\n",
            "Information Gain =  0.19215195962811893 , at index =  105 with value  1.9745952134569191\n",
            "Information Gain =  0.14137507952559358 , at index =  112 with value  2.069154141311699\n",
            "Information Gain =  0.09560258894703266 , at index =  119 with value  2.244168764784211\n",
            "Information Gain =  0.05388760914657287 , at index =  126 with value  2.342862491205682\n",
            "Information Gain =  0.015538816160668878 , at index =  133 with value  2.687650967336431\n"
          ]
        }
      ],
      "source": [
        "for i in range(train_x.shape[1]):\n",
        "  print(\"\\nFeature :\", i)\n",
        "  final = sorting(train_x.iloc[:,i])\n",
        "  y_big = cal_entropy(train_y)\n",
        "  batch = int(np.ceil(len(final)/20))\n",
        "  j=1\n",
        "  while(j<20):\n",
        "    left = final[:j*batch,-1]\n",
        "    right = final[j*batch:,-1]\n",
        "    entropy_left = cal_entropy(left)\n",
        "    entropy_right = cal_entropy(right)\n",
        "    #Calculating Expected Entropy\n",
        "    exp_entropy = expected_entropy(entropy_left,entropy_right,len(left),len(right),len (final))\n",
        "    #Print Information Gain\n",
        "    print(\"Information Gain = \",info_gain(y_big,exp_entropy),\",\", \"at index = \", j*batch, \"with value \", final[j*batch-1][0])\n",
        "    j=j+1"
      ]
    },
    {
      "cell_type": "code",
      "execution_count": 55,
      "metadata": {
        "id": "hAl8kkdkug2O"
      },
      "outputs": [
        {
          "name": "stderr",
          "output_type": "stream",
          "text": [
            "/var/folders/9r/gds3tnmj64q83ykddnkch5q40000gn/T/ipykernel_13432/2298371705.py:6: SettingWithCopyWarning: \n",
            "A value is trying to be set on a copy of a slice from a DataFrame\n",
            "\n",
            "See the caveats in the documentation: https://pandas.pydata.org/pandas-docs/stable/user_guide/indexing.html#returning-a-view-versus-a-copy\n",
            "  copy_list[0][index] = 1\n",
            "/var/folders/9r/gds3tnmj64q83ykddnkch5q40000gn/T/ipykernel_13432/2298371705.py:8: SettingWithCopyWarning: \n",
            "A value is trying to be set on a copy of a slice from a DataFrame\n",
            "\n",
            "See the caveats in the documentation: https://pandas.pydata.org/pandas-docs/stable/user_guide/indexing.html#returning-a-view-versus-a-copy\n",
            "  copy_list[0][index] = 0\n"
          ]
        }
      ],
      "source": [
        "#Randomly Changing 10 Labels in Y_train from 0 to 1 or 1 to 0. \n",
        "copy_list = train_y[:]\n",
        "for i in range(10):\n",
        "    index = np.random.randint(low=0,high=135) \n",
        "    if copy_list[0][index] == 0:\n",
        "        copy_list[0][index] = 1\n",
        "    else:\n",
        "        copy_list[0][index] = 0"
      ]
    },
    {
      "cell_type": "code",
      "execution_count": 58,
      "metadata": {
        "id": "wtLha5KPvMN8"
      },
      "outputs": [
        {
          "name": "stdout",
          "output_type": "stream",
          "text": [
            "\n",
            "Feature : 0\n",
            "Information Gain =  0.005139926542725881 , at index =  7 with value  -1.5977501529761042\n",
            "Information Gain =  0.032152413952720504 , at index =  14 with value  -1.4170287584214163\n",
            "Information Gain =  0.06774186138701455 , at index =  21 with value  -1.2425481063746178\n",
            "Information Gain =  0.10950190465555232 , at index =  28 with value  -1.0395920060319543\n",
            "Information Gain =  0.15756692072384693 , at index =  35 with value  -0.9608463990919474\n",
            "Information Gain =  0.2130631973470431 , at index =  42 with value  -0.8617626079814722\n",
            "Information Gain =  0.2781634664206741 , at index =  49 with value  -0.7702183883365052\n",
            "Information Gain =  0.2928380794311982 , at index =  56 with value  -0.6606212135534657\n",
            "Information Gain =  0.3831648143795252 , at index =  63 with value  -0.25732408623546743\n",
            "Information Gain =  0.3956286082481586 , at index =  70 with value  0.44979407473070565\n",
            "Information Gain =  0.2988007965948747 , at index =  77 with value  0.8848431892869623\n",
            "Information Gain =  0.22478910209177716 , at index =  84 with value  1.051021883324406\n",
            "Information Gain =  0.23961027466799267 , at index =  91 with value  1.2834256235141153\n",
            "Information Gain =  0.18034314401256635 , at index =  98 with value  1.4908930218245053\n",
            "Information Gain =  0.12928358128015438 , at index =  105 with value  1.6381057627712532\n",
            "Information Gain =  0.10774584961750622 , at index =  112 with value  1.859039939500618\n",
            "Information Gain =  0.0656484738837525 , at index =  119 with value  2.0059608422249706\n",
            "Information Gain =  0.028932214970470715 , at index =  126 with value  2.1409989595953194\n",
            "Information Gain =  0.015538816160668878 , at index =  133 with value  2.453655245437507\n",
            "\n",
            "Feature : 1\n",
            "Information Gain =  0.01528043777550292 , at index =  7 with value  -0.6640144498288834\n",
            "Information Gain =  0.049211167779869225 , at index =  14 with value  -0.5330549969153344\n",
            "Information Gain =  0.08906286835323685 , at index =  21 with value  -0.34776223389740596\n",
            "Information Gain =  0.10950190465555232 , at index =  28 with value  -0.15408282616018082\n",
            "Information Gain =  0.15756692072384693 , at index =  35 with value  0.0038829280989659486\n",
            "Information Gain =  0.2130631973470431 , at index =  42 with value  0.11684594078329\n",
            "Information Gain =  0.24842840623077306 , at index =  49 with value  0.24664815543021018\n",
            "Information Gain =  0.2928380794311982 , at index =  56 with value  0.3936205577228398\n",
            "Information Gain =  0.3831648143795252 , at index =  63 with value  0.7866573554989533\n",
            "Information Gain =  0.3623914073079564 , at index =  70 with value  1.0357949390991104\n",
            "Information Gain =  0.2988007965948747 , at index =  77 with value  1.3208584765846296\n",
            "Information Gain =  0.22478910209177716 , at index =  84 with value  1.6455836269545054\n",
            "Information Gain =  0.16471743527761062 , at index =  91 with value  1.7738046697579697\n",
            "Information Gain =  0.11470248957495777 , at index =  98 with value  1.8650365208564768\n",
            "Information Gain =  0.08901706872842019 , at index =  105 with value  1.9745952134569191\n",
            "Information Gain =  0.0665130067980636 , at index =  112 with value  2.069154141311699\n",
            "Information Gain =  0.04659871909253288 , at index =  119 with value  2.244168764784211\n",
            "Information Gain =  0.015223226117312971 , at index =  126 with value  2.342862491205682\n",
            "Information Gain =  0.00127690051995355 , at index =  133 with value  2.687650967336431\n"
          ]
        }
      ],
      "source": [
        "for i in range(train_x.shape[1]):\n",
        "  print(\"\\nFeature :\", i)\n",
        "  final_2 = sorting(train_x.iloc[:,i])\n",
        "  y_big_2 = cal_entropy(copy_list)\n",
        "  batch_2 = int(np.ceil(len(final_2)/20))\n",
        "  j=1\n",
        "  while(j<20):\n",
        "    left_2 = final_2[:j*batch_2,-1]\n",
        "    right_2 = final_2[j*batch_2:,-1]\n",
        "    entropy_left_2 = cal_entropy(left_2)\n",
        "    entropy_right_2 = cal_entropy(right_2)\n",
        "    #Calculating Expected Entropy\n",
        "    exp_entropy_2 = expected_entropy(entropy_left_2,entropy_right_2,len(left_2),len(right_2),len(final_2))\n",
        "    #Calculating Information Gain\n",
        "    print(\"Information Gain = \",info_gain(y_big_2,exp_entropy_2),\",\", \"at index = \", j*batch_2, \"with value \", final_2[j*batch_2-1][0])\n",
        "    j=j+1"
      ]
    }
  ],
  "metadata": {
    "colab": {
      "name": "SML HW3.ipynb",
      "provenance": []
    },
    "kernelspec": {
      "display_name": "Python 3",
      "name": "python3"
    },
    "language_info": {
      "codemirror_mode": {
        "name": "ipython",
        "version": 3
      },
      "file_extension": ".py",
      "mimetype": "text/x-python",
      "name": "python",
      "nbconvert_exporter": "python",
      "pygments_lexer": "ipython3",
      "version": "3.9.9"
    }
  },
  "nbformat": 4,
  "nbformat_minor": 0
}
