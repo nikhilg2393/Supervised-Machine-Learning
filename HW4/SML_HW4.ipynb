{
  "cells": [
    {
      "cell_type": "code",
      "execution_count": 1,
      "metadata": {
        "id": "qU2yJ9BRqcCJ"
      },
      "outputs": [],
      "source": [
        "#importing libraries\n",
        "import pandas as pd\n",
        "import matplotlib.pyplot as plt\n",
        "import matplotlib.colors\n",
        "import numpy as np\n",
        "import math"
      ]
    },
    {
      "cell_type": "code",
      "execution_count": 2,
      "metadata": {
        "id": "3lOfG_3o2fNY"
      },
      "outputs": [
        {
          "data": {
            "text/html": [
              "<div>\n",
              "<style scoped>\n",
              "    .dataframe tbody tr th:only-of-type {\n",
              "        vertical-align: middle;\n",
              "    }\n",
              "\n",
              "    .dataframe tbody tr th {\n",
              "        vertical-align: top;\n",
              "    }\n",
              "\n",
              "    .dataframe thead th {\n",
              "        text-align: right;\n",
              "    }\n",
              "</style>\n",
              "<table border=\"1\" class=\"dataframe\">\n",
              "  <thead>\n",
              "    <tr style=\"text-align: right;\">\n",
              "      <th></th>\n",
              "      <th>a</th>\n",
              "      <th>b</th>\n",
              "      <th>label</th>\n",
              "    </tr>\n",
              "  </thead>\n",
              "  <tbody>\n",
              "    <tr>\n",
              "      <th>0</th>\n",
              "      <td>7.308150</td>\n",
              "      <td>3.378029</td>\n",
              "      <td>1</td>\n",
              "    </tr>\n",
              "    <tr>\n",
              "      <th>1</th>\n",
              "      <td>-16.243747</td>\n",
              "      <td>-16.011393</td>\n",
              "      <td>0</td>\n",
              "    </tr>\n",
              "    <tr>\n",
              "      <th>2</th>\n",
              "      <td>7.584490</td>\n",
              "      <td>2.642162</td>\n",
              "      <td>1</td>\n",
              "    </tr>\n",
              "    <tr>\n",
              "      <th>3</th>\n",
              "      <td>-15.965623</td>\n",
              "      <td>-12.119112</td>\n",
              "      <td>0</td>\n",
              "    </tr>\n",
              "    <tr>\n",
              "      <th>4</th>\n",
              "      <td>-18.601721</td>\n",
              "      <td>15.422406</td>\n",
              "      <td>1</td>\n",
              "    </tr>\n",
              "  </tbody>\n",
              "</table>\n",
              "</div>"
            ],
            "text/plain": [
              "           a          b  label\n",
              "0   7.308150   3.378029      1\n",
              "1 -16.243747 -16.011393      0\n",
              "2   7.584490   2.642162      1\n",
              "3 -15.965623 -12.119112      0\n",
              "4 -18.601721  15.422406      1"
            ]
          },
          "execution_count": 2,
          "metadata": {},
          "output_type": "execute_result"
        }
      ],
      "source": [
        "#importing data\n",
        "data = pd.read_csv(\"HW4.csv\")\n",
        "data.head()"
      ]
    },
    {
      "cell_type": "code",
      "execution_count": 3,
      "metadata": {
        "id": "XVadXAZs2gKi"
      },
      "outputs": [],
      "source": [
        "#Taking feature values and Classification values as x and y\n",
        "x,y = data.iloc[:,:-1].values,data.iloc[:,-1].values\n",
        "y = np.array(y).reshape(-1,1)"
      ]
    },
    {
      "cell_type": "code",
      "execution_count": 4,
      "metadata": {
        "id": "7DzbW5zu2itj"
      },
      "outputs": [],
      "source": [
        "#Number of neurons per layer without the bias\n",
        "neurons_per_layer = [2,2,1]"
      ]
    },
    {
      "cell_type": "code",
      "execution_count": 10,
      "metadata": {
        "id": "y0_oFzCd2l8E"
      },
      "outputs": [],
      "source": [
        "#Initializing the parameters W and b for each layer\n",
        "def init_parameters(neurons_per_layer):\n",
        "  np.random.seed(2021)\n",
        "  num_layer = len(neurons_per_layer)\n",
        "  param = {}\n",
        "  for i in range(1, num_layer):\n",
        "    param[\"W\" + str(i)] = np.random.randn(neurons_per_layer[i], neurons_per_layer[i - 1]) * 0.01\n",
        "    param[\"b\" + str(i)] = np.ones((neurons_per_layer[i], 1))\n",
        "  return param"
      ]
    },
    {
      "cell_type": "code",
      "execution_count": 11,
      "metadata": {
        "id": "kw-cWNDr2oUq"
      },
      "outputs": [
        {
          "data": {
            "text/plain": [
              "{'W1': array([[ 0.01488609,  0.00676011],\n",
              "        [-0.00418451, -0.00806521]]),\n",
              " 'b1': array([[1.],\n",
              "        [1.]]),\n",
              " 'W2': array([[ 0.00555876, -0.00705504]]),\n",
              " 'b2': array([[1.]])}"
            ]
          },
          "execution_count": 11,
          "metadata": {},
          "output_type": "execute_result"
        }
      ],
      "source": [
        "#Parameters W and b Initialized\n",
        "parameters = init_parameters(neurons_per_layer)\n",
        "parameters"
      ]
    },
    {
      "cell_type": "code",
      "execution_count": 12,
      "metadata": {
        "id": "Er-zQ3rM2wh7"
      },
      "outputs": [],
      "source": [
        "#Activation Functions\n",
        "\n",
        "#Sigmoid\n",
        "def sigmoid_fn(z):\n",
        "  a = 1 / (1 + np.exp(-z))\n",
        "  return a, z\n",
        "\n",
        "#Tan_h\n",
        "def tanh_fn(z):\n",
        "  a = np.tanh(z)\n",
        "  return a, z\n",
        "  \n",
        "#Relu\n",
        "def relu_fn(z):\n",
        "  a = np.maximum(0, z)\n",
        "  return a, z"
      ]
    },
    {
      "cell_type": "code",
      "execution_count": 13,
      "metadata": {
        "id": "v8clBv4L22hQ"
      },
      "outputs": [],
      "source": [
        "#Log loss Function\n",
        "def logloss(y,y_pred):\n",
        "  loss = -np.mean(np.dot(y,np.log(y_pred)) + np.dot(1-y,np.log(1-y_pred)))\n",
        "  return loss"
      ]
    },
    {
      "cell_type": "code",
      "execution_count": 14,
      "metadata": {
        "id": "4mHfe8xE25kS"
      },
      "outputs": [],
      "source": [
        "#Forward Propogation\n",
        "#Activation Function Value\n",
        "def activation_fun(W,b,a_prev,active_fn):\n",
        "  if active_fn == \"sigmoid_fn\":\n",
        "    z, lin_mem = forward_prop(W,b,a_prev)\n",
        "    a, act_mem = sigmoid_fn(z)\n",
        "  elif active_fn == \"relu_fn\":\n",
        "    z, lin_mem = forward_prop(W,b,a_prev)\n",
        "    a, act_mem = relu_fn(z)\n",
        "  elif active_fn == \"tanh_fn\":\n",
        "    z, lin_mem = forward_prop(W,b,a_prev)\n",
        "    a, act_mem = tanh_fn(z)\n",
        "  memory = (lin_mem, act_mem)\n",
        "  return a, memory\n",
        "def forward_prop(W,b,a_prev):\n",
        "  z = np.dot(W,a_prev) + b #Calculating Z = WX + b\n",
        "  memory = (a_prev, W, b)  #Storing\n",
        "  return z, memory"
      ]
    },
    {
      "cell_type": "code",
      "execution_count": 19,
      "metadata": {
        "id": "PtKQ_6JF3BM2"
      },
      "outputs": [],
      "source": [
        "#Returning final output and Stored Parameters\n",
        "def for_model(X, param, active_func=\"relu_fn\"):\n",
        "  a = X.T\n",
        "  memories = [] #To store parameters during Forward Prop\n",
        "  L = len(param) // 2\n",
        "  for i in range(1, L):\n",
        "    a_prev = a\n",
        "    a, memory = activation_fun(param[\"W\" + str(i)], param[\"b\" + str(i)],a_prev,active_fn=active_func)\n",
        "    memories.append(memory)\n",
        "  y_pred, memory = activation_fun(param[\"W\" + str(L)], param[\"b\" + str(L)],a,active_fn=\"sigmoid_fn\")\n",
        "  memories.append(memory)\n",
        "  return y_pred, memories"
      ]
    },
    {
      "cell_type": "code",
      "execution_count": 20,
      "metadata": {
        "id": "MrpofdUR3Dfb"
      },
      "outputs": [],
      "source": [
        "y_pred, memory = for_model(x, parameters, active_func=\"relu_fn\")"
      ]
    },
    {
      "cell_type": "code",
      "execution_count": 21,
      "metadata": {
        "id": "ORkdD3To3ED5"
      },
      "outputs": [
        {
          "data": {
            "text/plain": [
              "0.81286482304987"
            ]
          },
          "execution_count": 21,
          "metadata": {},
          "output_type": "execute_result"
        }
      ],
      "source": [
        "#Cost of 1 Forward Propogation\n",
        "cost_forward = logloss(y,y_pred)\n",
        "cost_forward"
      ]
    },
    {
      "cell_type": "code",
      "execution_count": 22,
      "metadata": {
        "id": "vXccux_73FjM"
      },
      "outputs": [
        {
          "name": "stdout",
          "output_type": "stream",
          "text": [
            "[[0.73098845 0.73010735 0.73098088 ... 0.73103767 0.73101252 0.73100544]]\n"
          ]
        }
      ],
      "source": [
        "#Final Output\n",
        "print(y_pred)"
      ]
    },
    {
      "cell_type": "code",
      "execution_count": 23,
      "metadata": {
        "id": "aFaFOsuI3Hbf"
      },
      "outputs": [],
      "source": [
        "#Backward Propogation\n",
        "def helper2(dz, lin_mem,active_fn = \"sigmoid_fn\"):\n",
        "  a_prev, W, b = lin_mem\n",
        "  dW = np.dot(dz, a_prev.T)\n",
        "  db = np.sum(dz, axis=1, keepdims=True)\n",
        "  da_prev = np.dot(W.T,dz)\n",
        "  return da_prev, dW, db"
      ]
    },
    {
      "cell_type": "code",
      "execution_count": 24,
      "metadata": {
        "id": "NvoZGmIu3JRw"
      },
      "outputs": [],
      "source": [
        "#Differentiation of Activation Functions\n",
        "def sigmoid_diff(da, z):\n",
        "  a, z = sigmoid_fn(z)\n",
        "  dz = da * a * (1 - a)\n",
        "  return dz\n",
        "def tanh_diff(da, z):\n",
        "  a, z = tanh_fn(z)\n",
        "  dz = da * (1 - np.square(a))\n",
        "  return dz\n",
        "def relu_diff(da, z):\n",
        "  dz = np.where(da <= 0, 0, 1)\n",
        "  return dz\n",
        "def helper1(da, memory, active_fn):\n",
        "  lin_mem, act_mem = memory\n",
        "  if active_fn == \"relu_fn\":\n",
        "    dz = relu_diff(da, act_mem)\n",
        "    da_prev, dW, db = helper2(dz, lin_mem,active_fn)\n",
        "  elif active_fn == \"sigmoid_fn\":\n",
        "    dz = sigmoid_diff(da, act_mem)\n",
        "    da_prev, dW, db = helper2(dz, lin_mem,active_fn)\n",
        "  elif active_fn == \"tanh_fn\":\n",
        "    dz = tanh_diff(da, act_mem)\n",
        "    da_prev, dW, db = helper2(dz, lin_mem,active_fn)\n",
        "  return da_prev, dW, db"
      ]
    },
    {
      "cell_type": "code",
      "execution_count": 30,
      "metadata": {
        "id": "d1OD7EQh3L_r"
      },
      "outputs": [],
      "source": [
        "#Main for Back Propogation\n",
        "def back_prop(y,y_pred,memory,active_func=\"relu_fn\"):\n",
        "  gradient = {} #To store gradients after Back prop\n",
        "  y_new = y.T\n",
        "  lenght = len(memory)\n",
        "  #dloss\n",
        "  dy_pred = -1 * np.divide((y_new),(y_pred)) + np.divide(1-(y_new),1-(y_pred))\n",
        "  #Calculating Gradient for Output layer\n",
        "  gradient[\"da\" + str(lenght-1)], gradient[\"dW\" + str(lenght)], gradient[\"db\" + str(lenght)] = helper1(dy_pred, memory[lenght - 1],active_fn=\"sigmoid_fn\")\n",
        "  #Calculating Gradient for hidden layer\n",
        "  for i in range(lenght-1,0,-1):\n",
        "    gradient[\"da\" + str(i - 1)], gradient[\"dW\" + str(i)], gradient[\"db\" + str(i)] = helper1(gradient[\"da\" + str(i)], memory[i - 1],active_fn=\"relu_fn\")\n",
        "  gradient[\"da\" + str(lenght-1)] = dy_pred\n",
        "  return gradient"
      ]
    },
    {
      "cell_type": "code",
      "execution_count": 31,
      "metadata": {
        "id": "mAB33kiD3ctt"
      },
      "outputs": [
        {
          "data": {
            "text/plain": [
              "{'da1': array([[-1.36801067,  3.70517688, -1.36802484, ..., -1.36791856,\n",
              "          3.71764517, -1.36797888]]),\n",
              " 'dW2': array([[ 924.97007311, 1232.0893135 ]]),\n",
              " 'db2': array([[1153.60055739]]),\n",
              " 'da0': array([[-0.00418451,  0.01488609, -0.00418451, ..., -0.00418451,\n",
              "          0.01488609, -0.00418451],\n",
              "        [-0.00806521,  0.00676011, -0.00806521, ..., -0.00806521,\n",
              "          0.00676011, -0.00806521]]),\n",
              " 'dW1': array([[-23484.54635964,   5373.18662014],\n",
              "        [-10533.46609323,  23204.88326723]]),\n",
              " 'db1': array([[2500],\n",
              "        [2500]])}"
            ]
          },
          "execution_count": 31,
          "metadata": {},
          "output_type": "execute_result"
        }
      ],
      "source": [
        "#Gradients and Activation of all the layers after back propogation\n",
        "result = back_prop(y,y_pred,memory,active_func=\"relu_fn\")\n",
        "result"
      ]
    },
    {
      "cell_type": "code",
      "execution_count": 32,
      "metadata": {
        "id": "guGGuNgV3euW"
      },
      "outputs": [],
      "source": [
        "#Splitting data into Train,Test and Validation (0.6,0.2,0.2)\n",
        "from sklearn.model_selection import train_test_split\n",
        "X_train, X_rem, Y_train, Y_rem = train_test_split(x,y, train_size=0.6)\n",
        "X_valid, X_test, Y_valid, Y_test = train_test_split(X_rem,Y_rem, test_size=0.5)"
      ]
    },
    {
      "cell_type": "code",
      "execution_count": 34,
      "metadata": {
        "id": "8xCzGC973iye"
      },
      "outputs": [],
      "source": [
        "#Running epoch with mini batch\n",
        "def final_call(neurons_per_layer,lamb):\n",
        "  epoch = 3000\n",
        "  L = len(neurons_per_layer)\n",
        "  alpha = 0.01 #Learning rate\n",
        "  number = x.shape[0]\n",
        "  batch_size = 500\n",
        "  num_batch = int(number / batch_size)\n",
        "  #initialization parameters\n",
        "  parameters = init_parameters(neurons_per_layer)\n",
        "  for i in range(1,epoch+1):\n",
        "    m=0\n",
        "    for z in range(num_batch):\n",
        "        #initialization of gradients for each batch\n",
        "        deltaw1 = 0\n",
        "        deltab1 = 0\n",
        "        deltaw2 = 0\n",
        "        deltab2 = 0\n",
        "        index = np.random.randint(low=0,high=5000,size=500)\n",
        "        x_mini = x[m:m+batch_size]\n",
        "        y_mini = y[m:m+batch_size]\n",
        "        m = m + batch_size\n",
        "\n",
        "        #Forward Prop\n",
        "        y_pred, memory = for_model(x_mini, parameters, active_func=\"relu_fn\")\n",
        "        #Backward Prop\n",
        "        backward = back_prop(y_mini,y_pred,memory,active_func=\"relu_fn\")\n",
        "        #Summing Gradients for each batch\n",
        "        deltaw1 = deltaw1 + backward[\"dW1\"]\n",
        "        deltab1 = deltab1 + backward[\"db1\"]\n",
        "        deltaw2 =  deltaw2 + backward[\"dW2\"]\n",
        "        deltab2 = deltab2 + backward[\"db2\"]\n",
        "      #Updating Parameters after each mini batch\n",
        "    parameters[\"W1\"] = parameters[\"W1\"] - alpha * ((1 / number) * deltaw1 + (lamb)*parameters[\"W1\"])\n",
        "    parameters[\"W2\"] = parameters[\"W2\"] - alpha * ((1 / number) * deltaw2 + (lamb)*parameters[\"W2\"])\n",
        "    parameters[\"b1\"] = parameters[\"b1\"] - alpha * (1 / number) * deltab1\n",
        "    parameters[\"b2\"] = parameters[\"b2\"] - alpha * (1 / number) * deltab2\n",
        "  return parameters"
      ]
    },
    {
      "cell_type": "code",
      "execution_count": 35,
      "metadata": {
        "id": "IbUh0gdQ3vID"
      },
      "outputs": [
        {
          "name": "stdout",
          "output_type": "stream",
          "text": [
            "{'W1': array([[ 0.01488609,  0.00676011],\n",
            "       [-0.00418451, -0.00806521]]), 'b1': array([[1.],\n",
            "       [1.]]), 'W2': array([[ 0.00555876, -0.00705504]]), 'b2': array([[1.]])} \n",
            "\n",
            "[[0.73098845 0.73010735 0.73098088 ... 0.73103767 0.73101252 0.73100544]]\n"
          ]
        }
      ],
      "source": [
        "print(parameters,'\\n')\n",
        "print(y_pred)"
      ]
    },
    {
      "cell_type": "code",
      "execution_count": 36,
      "metadata": {
        "id": "gsMu8JZL3xPu"
      },
      "outputs": [],
      "source": [
        "#Neural Network with 3 Layers and S2 = 2\n",
        "neurons_per_layer = [2,2,1]"
      ]
    },
    {
      "cell_type": "code",
      "execution_count": 37,
      "metadata": {
        "id": "SNNpr4MH35cd"
      },
      "outputs": [
        {
          "name": "stdout",
          "output_type": "stream",
          "text": [
            "Loss for lambda -> 0.01  is  0.7530753080867173\n",
            "Loss for lambda -> 10  is  0.7268174123015888\n",
            "Loss for lambda -> 0.5  is  0.7320513356799543\n",
            "Loss for lambda -> 7  is  0.7268350474333494\n",
            "Loss for lambda -> 20  is  0.7268034979571145\n",
            "Loss for lambda -> 5  is  0.7268208965394726\n"
          ]
        }
      ],
      "source": [
        "#Checking model for various lambdas\n",
        "lamb = [0.01,10,0.5,7,20,5]\n",
        "for l in lamb:\n",
        "  parameters = final_call(neurons_per_layer,l)\n",
        "  y_pred_valid, memory = for_model(X_valid, parameters, active_func=\"sigmoid_fn\")\n",
        "  cost_valid = logloss(Y_valid,y_pred_valid)\n",
        "  print(\"Loss for lambda ->\",l,\" is \",cost_valid)"
      ]
    },
    {
      "cell_type": "code",
      "execution_count": 38,
      "metadata": {
        "id": "54KEajdz3-EP"
      },
      "outputs": [
        {
          "name": "stdout",
          "output_type": "stream",
          "text": [
            "Logloss for test set  0.7220152682503943\n"
          ]
        }
      ],
      "source": [
        "#Calculating Logloss for test split data\n",
        "param_test = final_call(neurons_per_layer,20)\n",
        "y_pred_test, memory = for_model(X_test, param_test, active_func=\"sigmoid_fn\")\n",
        "cost_test = logloss(Y_test,y_pred_test)\n",
        "print(\"Logloss for test set \", cost_test)"
      ]
    },
    {
      "cell_type": "code",
      "execution_count": 39,
      "metadata": {
        "id": "mcwxFZzo4y8V"
      },
      "outputs": [
        {
          "name": "stdout",
          "output_type": "stream",
          "text": [
            "Logloss for training set  0.7196211533970358\n"
          ]
        }
      ],
      "source": [
        "#Calculating Logloss for test train data\n",
        "param_train = final_call(neurons_per_layer,20)\n",
        "y_pred_train, memory = for_model(X_train, param_train, active_func=\"sigmoid_fn\")\n",
        "cost_train = logloss(Y_train,y_pred_train)\n",
        "print(\"Logloss for training set \",cost_train)"
      ]
    },
    {
      "cell_type": "code",
      "execution_count": 40,
      "metadata": {
        "id": "mxUMzlfm400o"
      },
      "outputs": [],
      "source": [
        "#Neural Network with 3 Layers and S2 = 10\n",
        "neurons_per_layer = [2,10,1]"
      ]
    },
    {
      "cell_type": "code",
      "execution_count": 41,
      "metadata": {
        "id": "l9mmrpGw4281"
      },
      "outputs": [
        {
          "name": "stdout",
          "output_type": "stream",
          "text": [
            "Loss for lambda -> 0.1  is  0.7541429897639004\n",
            "Loss for lambda -> 10  is  0.726922058008265\n",
            "Loss for lambda -> 0.5  is  0.7399815888490343\n",
            "Loss for lambda -> 7  is  0.7270058398765828\n",
            "Loss for lambda -> 20  is  0.726855873399464\n",
            "Loss for lambda -> 5  is  0.7269671534685541\n"
          ]
        }
      ],
      "source": [
        "#Checking model for various lambdas\n",
        "lamb = [0.1,10,0.5,7,20,5]\n",
        "for l in lamb:\n",
        "  param = final_call(neurons_per_layer,l)\n",
        "  y_pred_valid, memory = for_model(X_valid, param, active_func=\"sigmoid_fn\")\n",
        "  cost_valid = logloss(Y_valid,y_pred_valid)\n",
        "  print(\"Loss for lambda ->\",l,\" is \",cost_valid)"
      ]
    },
    {
      "cell_type": "code",
      "execution_count": 42,
      "metadata": {
        "id": "2gs_WbWj45uN"
      },
      "outputs": [
        {
          "name": "stdout",
          "output_type": "stream",
          "text": [
            "Logloss for test set  0.7220635683545326\n"
          ]
        }
      ],
      "source": [
        "#Calculating Logloss for test split data\n",
        "param_test = final_call(neurons_per_layer,20)\n",
        "y_pred_test, memory = for_model(X_test, param_test, active_func=\"sigmoid_fn\")\n",
        "cost_test = logloss(Y_test,y_pred_test)\n",
        "print(\"Logloss for test set \", cost_test)"
      ]
    },
    {
      "cell_type": "code",
      "execution_count": 43,
      "metadata": {
        "id": "T-rAbgpA47hT"
      },
      "outputs": [
        {
          "name": "stdout",
          "output_type": "stream",
          "text": [
            "Logloss for training set  0.719667415832066\n"
          ]
        }
      ],
      "source": [
        "#Calculating Logloss for test split data\n",
        "param_train = final_call(neurons_per_layer,20)\n",
        "y_pred_train, memory = for_model(X_train, param_train, active_func=\"sigmoid_fn\")\n",
        "cost_train = logloss(Y_train,y_pred_train)\n",
        "print(\"Logloss for training set \",cost_train)"
      ]
    },
    {
      "cell_type": "code",
      "execution_count": 44,
      "metadata": {
        "id": "DoYBDEPV4_-M"
      },
      "outputs": [
        {
          "data": {
            "text/plain": [
              "<matplotlib.legend.Legend at 0x15b0e67f0>"
            ]
          },
          "execution_count": 44,
          "metadata": {},
          "output_type": "execute_result"
        },
        {
          "data": {
            "image/png": "[encoded data removed]",
            "text/plain": [
              "<Figure size 432x288 with 1 Axes>"
            ]
          },
          "metadata": {
            "needs_background": "light"
          },
          "output_type": "display_data"
        }
      ],
      "source": [
        "#Plotting Scatter plot for the two classes\n",
        "data1 = np.array(data)\n",
        "data1[:, 1]\n",
        "plt.plot(data1[:, 0][data1[:,-1]==0] , data1[:, 1][data1[:,-1]==0] , \"s\" , color = \"blue\", label=\"Class 1\")\n",
        "plt.plot(data1[:, 0][data1[:,-1]==1] , data1[:, 1][data1[:,-1]==1] , \"o\", color = \"green\", label=\"Class 2\")\n",
        "plt.legend()"
      ]
    }
  ],
  "metadata": {
    "colab": {
      "name": "SML HW4.ipynb",
      "provenance": []
    },
    "kernelspec": {
      "display_name": "Python 3",
      "name": "python3"
    },
    "language_info": {
      "codemirror_mode": {
        "name": "ipython",
        "version": 3
      },
      "file_extension": ".py",
      "mimetype": "text/x-python",
      "name": "python",
      "nbconvert_exporter": "python",
      "pygments_lexer": "ipython3",
      "version": "3.9.9"
    }
  },
  "nbformat": 4,
  "nbformat_minor": 0
}
